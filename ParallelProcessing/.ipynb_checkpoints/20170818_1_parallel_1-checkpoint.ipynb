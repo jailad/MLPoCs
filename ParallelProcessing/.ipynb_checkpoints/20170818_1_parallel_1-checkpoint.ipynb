{
 "cells": [
  {
   "cell_type": "code",
   "execution_count": 1,
   "metadata": {
    "collapsed": true
   },
   "outputs": [],
   "source": [
    "\n",
    "# Objective here was check the variation of the run-time / execution time for an ML training / testing process, \n",
    "# as the number of cores was modified / increased\n"
   ]
  },
  {
   "cell_type": "code",
   "execution_count": 6,
   "metadata": {},
   "outputs": [
    {
     "name": "stdout",
     "output_type": "stream",
     "text": [
      "Automatically created module for IPython interactive environment\n"
     ]
    }
   ],
   "source": [
    "print(__doc__)\n",
    "\n",
    "import matplotlib.pyplot as plt\n",
    "import numpy as np\n",
    "from sklearn import datasets, linear_model\n",
    "from sklearn.metrics import mean_squared_error, r2_score\n",
    "\n",
    "import time\n"
   ]
  },
  {
   "cell_type": "code",
   "execution_count": 20,
   "metadata": {
    "collapsed": true
   },
   "outputs": [],
   "source": [
    "\n",
    "const_default_num_jobs = 1\n",
    "const_num_executions_to_evaluate = 1000\n"
   ]
  },
  {
   "cell_type": "code",
   "execution_count": 26,
   "metadata": {
    "collapsed": true
   },
   "outputs": [],
   "source": [
    "# The implementation of the function below uses code from here :\n",
    "# # From - http://scikit-learn.org/stable/auto_examples/linear_model/plot_ols.html#sphx-glr-auto-examples-linear-model-plot-ols-py\n",
    "# Code source: Jaques Grobler\n",
    "# License: BSD 3 clause\n",
    "\n",
    "# Define a convenience function to perform a Linear Fit on the Diabetes Database, using parameterized number of cores\n",
    "\n",
    "def perform_linear_fit(param_n_jobs = const_default_num_jobs):\n",
    "\n",
    "    # Load the diabetes dataset\n",
    "    diabetes = datasets.load_diabetes()\n",
    "\n",
    "    # Use only one feature\n",
    "    diabetes_X = diabetes.data[:, np.newaxis, 2]\n",
    "\n",
    "    # Split the data into training/testing sets\n",
    "    diabetes_X_train = diabetes_X[:-20]\n",
    "    diabetes_X_test = diabetes_X[-20:]\n",
    "\n",
    "    # Split the targets into training/testing sets\n",
    "    diabetes_y_train = diabetes.target[:-20]\n",
    "    diabetes_y_test = diabetes.target[-20:]\n",
    "\n",
    "    # Create linear regression object\n",
    "    regr = linear_model.LinearRegression(n_jobs = param_n_jobs)\n",
    "\n",
    "    # Train the model using the training sets\n",
    "    start_time = time.time()\n",
    "    regr.fit(diabetes_X_train, diabetes_y_train)\n",
    "    end_time = time.time()\n",
    "    time_delta = end_time - start_time\n",
    "\n",
    "    # Make predictions using the testing set\n",
    "    diabetes_y_pred = regr.predict(diabetes_X_test)\n",
    "\n",
    "    return time_delta\n"
   ]
  },
  {
   "cell_type": "code",
   "execution_count": 29,
   "metadata": {
    "collapsed": true
   },
   "outputs": [],
   "source": [
    "\n",
    "def evaluate_linear_fit(param_n_jobs = const_default_num_jobs, param_n_evaluations = const_num_executions_to_evaluate):\n",
    "    time_delta_list = list()\n",
    "    for evaluation in range(param_n_evaluations):\n",
    "        time_delta = perform_linear_fit(param_n_jobs)\n",
    "        time_delta_list.append(time_delta)\n",
    "    average_time_delta = np.mean(time_delta_list)\n",
    "    print(\"Average Fitting time with : \" + str(param_n_jobs) + \" cores and with \" + str(param_n_evaluations) + \" iterations is: \" + str(time_delta) + \" seconds.\" )\n",
    "    return average_time_delta\n"
   ]
  },
  {
   "cell_type": "code",
   "execution_count": 31,
   "metadata": {},
   "outputs": [
    {
     "name": "stdout",
     "output_type": "stream",
     "text": [
      "Average Fitting time with : 1 cores and with 1000 iterations is: 0.0006468296051025391 seconds.\n"
     ]
    },
    {
     "data": {
      "text/plain": [
       "0.00040389299392700194"
      ]
     },
     "execution_count": 31,
     "metadata": {},
     "output_type": "execute_result"
    }
   ],
   "source": [
    "\n",
    "# Run with one core\n",
    "\n",
    "evaluate_linear_fit(1, const_num_executions_to_evaluate)\n"
   ]
  },
  {
   "cell_type": "code",
   "execution_count": 32,
   "metadata": {},
   "outputs": [
    {
     "name": "stdout",
     "output_type": "stream",
     "text": [
      "Average Fitting time with : 2 cores and with 1000 iterations is: 0.0004019737243652344 seconds.\n"
     ]
    },
    {
     "data": {
      "text/plain": [
       "0.00042050838470458985"
      ]
     },
     "execution_count": 32,
     "metadata": {},
     "output_type": "execute_result"
    }
   ],
   "source": [
    "\n",
    "# Run with one core\n",
    "\n",
    "evaluate_linear_fit(2, const_num_executions_to_evaluate)\n"
   ]
  },
  {
   "cell_type": "code",
   "execution_count": 33,
   "metadata": {},
   "outputs": [
    {
     "name": "stdout",
     "output_type": "stream",
     "text": [
      "Average Fitting time with : 3 cores and with 1000 iterations is: 0.000347137451171875 seconds.\n"
     ]
    },
    {
     "data": {
      "text/plain": [
       "0.00040815544128417971"
      ]
     },
     "execution_count": 33,
     "metadata": {},
     "output_type": "execute_result"
    }
   ],
   "source": [
    "# Run with one core\n",
    "\n",
    "evaluate_linear_fit(3, const_num_executions_to_evaluate)\n"
   ]
  },
  {
   "cell_type": "code",
   "execution_count": 34,
   "metadata": {},
   "outputs": [
    {
     "name": "stdout",
     "output_type": "stream",
     "text": [
      "Average Fitting time with : 4 cores and with 1000 iterations is: 0.0003681182861328125 seconds.\n"
     ]
    },
    {
     "data": {
      "text/plain": [
       "0.00039053034782409666"
      ]
     },
     "execution_count": 34,
     "metadata": {},
     "output_type": "execute_result"
    }
   ],
   "source": [
    "\n",
    "# Run with one core\n",
    "\n",
    "evaluate_linear_fit(4, const_num_executions_to_evaluate)\n"
   ]
  },
  {
   "cell_type": "code",
   "execution_count": 35,
   "metadata": {},
   "outputs": [
    {
     "name": "stdout",
     "output_type": "stream",
     "text": [
      "Average Fitting time with : -1 cores and with 1000 iterations is: 0.00034689903259277344 seconds.\n"
     ]
    },
    {
     "data": {
      "text/plain": [
       "0.00035011863708496091"
      ]
     },
     "execution_count": 35,
     "metadata": {},
     "output_type": "execute_result"
    }
   ],
   "source": [
    "\n",
    "# Run with one core\n",
    "\n",
    "evaluate_linear_fit(-1, const_num_executions_to_evaluate)\n"
   ]
  }
 ],
 "metadata": {
  "kernelspec": {
   "display_name": "Python 3",
   "language": "python",
   "name": "python3"
  },
  "language_info": {
   "codemirror_mode": {
    "name": "ipython",
    "version": 3
   },
   "file_extension": ".py",
   "mimetype": "text/x-python",
   "name": "python",
   "nbconvert_exporter": "python",
   "pygments_lexer": "ipython3",
   "version": "3.6.1"
  }
 },
 "nbformat": 4,
 "nbformat_minor": 2
}
